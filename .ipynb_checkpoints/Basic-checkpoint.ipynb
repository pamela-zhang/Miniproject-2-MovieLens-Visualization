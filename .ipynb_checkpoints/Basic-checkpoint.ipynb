{
 "cells": [
  {
   "cell_type": "markdown",
   "metadata": {},
   "source": [
    "# Basic Visualizations"
   ]
  },
  {
   "cell_type": "code",
   "execution_count": 1,
   "metadata": {
    "collapsed": true
   },
   "outputs": [],
   "source": [
    "# Imports\n",
    "import numpy as np\n",
    "import matplotlib.pyplot as plt; plt.rcdefaults()\n",
    "import seaborn as sns\n",
    "import helper\n",
    "import matplotlib.pyplot as plt;\n",
    "# To allow for inline rendering of plots.\n",
    "%matplotlib inline"
   ]
  },
  {
   "cell_type": "code",
   "execution_count": 2,
   "metadata": {
    "collapsed": true
   },
   "outputs": [],
   "source": [
    "data, titles, movies_data, genres = helper.load_data('data/data.txt', 'data/movies.txt')"
   ]
  },
  {
   "cell_type": "code",
   "execution_count": 3,
   "metadata": {
    "collapsed": true
   },
   "outputs": [],
   "source": [
    "# Array stores total of user ratings and number of ratings\n",
    "movie_ratings = np.zeros((len(movies_data), 2))"
   ]
  },
  {
   "cell_type": "code",
   "execution_count": 4,
   "metadata": {},
   "outputs": [],
   "source": [
    "# Loop through data set\n",
    "for d in data:\n",
    "    # Add user's rating for corresponding movie\n",
    "    movie_ratings[int(d[1] - 1)][0] += d[2]\n",
    "    # Count of ratings per movie\n",
    "    movie_ratings[int(d[1] - 1)][1] += 1\n",
    "\n",
    "# All ratings of all movies\n",
    "# all_ratings = data[:,2]"
   ]
  },
  {
   "cell_type": "markdown",
   "metadata": {},
   "source": [
    "## Visualizing Ratings for Top 10 Popular Movies and Top 10 Best Movies"
   ]
  },
  {
   "cell_type": "code",
   "execution_count": 5,
   "metadata": {
    "collapsed": true
   },
   "outputs": [],
   "source": [
    "'''\n",
    "Given an input array of movie ratings and scalar n_max, return the indices in \n",
    "lst of the n_max highest values in the list.\n",
    "\n",
    "Input:\n",
    "    - lst: list of values to sort and select from\n",
    "    - n_max: desired n number of movies with certain attribute\n",
    "\n",
    "Output:\n",
    "    - max_positions: indices of n_max movies with most number of ratings\n",
    "\n",
    "'''\n",
    "# def n_max_pos(movie_ratings, n_max):\n",
    "#     sorted_pos = np.argsort(rating_per_mov)\n",
    "#     max_positions = sorted_pos[-1*n_max:]\n",
    "#     return max_positions\n",
    "\n",
    "def n_max_pos(lst, n_max):\n",
    "    sorted_pos = np.argsort(lst)\n",
    "    max_positions = sorted_pos[-1*n_max:]\n",
    "    return max_positions"
   ]
  },
  {
   "cell_type": "code",
   "execution_count": 6,
   "metadata": {
    "collapsed": true
   },
   "outputs": [],
   "source": [
    "# Calculate average rating score for each movie\n",
    "avgs = np.zeros(len(movies_data))\n",
    "for i, m in enumerate(movie_ratings):\n",
    "    # all_ratings[i] = m[1]\n",
    "    if m[1] != 0:\n",
    "        avgs[i] = m[0] / m[1]\n",
    "        \n",
    "# Finding top 10 movies with the most ratings\n",
    "rating_per_mov = movie_ratings[:,1]\n",
    "most_ratings_pos = n_max_pos(rating_per_mov, 10)\n",
    "\n",
    "# Find average ratings of the 10 movies with most number of ratings\n",
    "most_ratings = avgs[most_ratings_pos]\n",
    "\n",
    "# Finding top 10 movies with highest average ratings\n",
    "best_movies_pos = n_max_pos(avgs, 10)\n",
    "best_avg = avgs[best_movies_pos]"
   ]
  },
  {
   "cell_type": "code",
   "execution_count": 7,
   "metadata": {},
   "outputs": [],
   "source": [
    "# Find the review counts of the top 10 most popular movies\n",
    "most_ratings_counts = []\n",
    "best_movies_counts = []\n",
    "for d in data:\n",
    "    if d[1] - 1 in most_ratings_pos:\n",
    "        most_ratings_counts.append(d[2])\n",
    "    if d[1] - 1 in best_movies_pos:\n",
    "        best_movies_counts.append(d[2])"
   ]
  },
  {
   "cell_type": "code",
   "execution_count": 8,
   "metadata": {},
   "outputs": [
    {
     "data": {
      "text/plain": [
       "<matplotlib.text.Text at 0x10c268b00>"
      ]
     },
     "execution_count": 8,
     "metadata": {},
     "output_type": "execute_result"
    },
    {
     "data": {
      "image/png": "[encoded data removed]",
      "text/plain": [
       "<matplotlib.figure.Figure at 0x10d688a90>"
      ]
     },
     "metadata": {},
     "output_type": "display_data"
    }
   ],
   "source": [
    "all_hist = sns.distplot(avgs, kde=False, rug=True)\n",
    "all_hist.axes.set_title(\"All Ratings in MovieLens\")\n",
    "all_hist.set_xlabel(\"Average Movie Rating\")\n",
    "all_hist.set_ylabel(\"Counts of Movies\")"
   ]
  },
  {
   "cell_type": "code",
   "execution_count": 9,
   "metadata": {
    "scrolled": true
   },
   "outputs": [
    {
     "data": {
      "text/plain": [
       "<matplotlib.text.Text at 0x1a18bdc278>"
      ]
     },
     "execution_count": 9,
     "metadata": {},
     "output_type": "execute_result"
    },
    {
     "data": {
      "image/png": "[encoded data removed]",
      "text/plain": [
       "<matplotlib.figure.Figure at 0x1a18405a20>"
      ]
     },
     "metadata": {},
     "output_type": "display_data"
    }
   ],
   "source": [
    "most_hist = sns.distplot(most_ratings, kde=False, rug=True)\n",
    "most_hist.axes.set_title(\"Ratings for Top 10 Popular Movies\")\n",
    "most_hist.set_xlabel(\"Average Movie Rating\")\n",
    "most_hist.set_ylabel(\"Counts of Movies\")"
   ]
  },
  {
   "cell_type": "code",
   "execution_count": 10,
   "metadata": {},
   "outputs": [
    {
     "data": {
      "text/plain": [
       "[(0, 6)]"
      ]
     },
     "execution_count": 10,
     "metadata": {},
     "output_type": "execute_result"
    },
    {
     "data": {
      "image/png": "[encoded data removed]",
      "text/plain": [
       "<matplotlib.figure.Figure at 0x10d684f28>"
      ]
     },
     "metadata": {},
     "output_type": "display_data"
    }
   ],
   "source": [
    "most_hist_all = sns.distplot(most_ratings_counts, kde=False, rug=True, bins=5)\n",
    "most_hist_all.axes.set_title(\"Ratings for Top 10 Popular Movies\")\n",
    "most_hist_all.set_xlabel(\"Movie Rating\")\n",
    "most_hist_all.set_ylabel(\"Counts of User Ratings\")\n",
    "most_hist_all.set(xlim=(0, 6))"
   ]
  },
  {
   "cell_type": "code",
   "execution_count": 11,
   "metadata": {},
   "outputs": [
    {
     "data": {
      "image/png": "[encoded data removed]",
      "text/plain": [
       "<matplotlib.figure.Figure at 0x1a184a5390>"
      ]
     },
     "metadata": {},
     "output_type": "display_data"
    }
   ],
   "source": [
    "# Bar Graph for Top 10 Popular Movies\n",
    "plt.bar(np.arange(10), most_ratings)\n",
    "plt.xlabel('Movies in Top 10')\n",
    "plt.ylabel('Average Rating')\n",
    "plt.title('Ratings for Top 10 Popular Movies')\n",
    "plt.show()"
   ]
  },
  {
   "cell_type": "code",
   "execution_count": 12,
   "metadata": {},
   "outputs": [
    {
     "data": {
      "text/plain": [
       "<matplotlib.text.Text at 0x1a1e56dbe0>"
      ]
     },
     "execution_count": 12,
     "metadata": {},
     "output_type": "execute_result"
    },
    {
     "data": {
      "image/png": "[encoded data removed]",
      "text/plain": [
       "<matplotlib.figure.Figure at 0x1a1eb82a58>"
      ]
     },
     "metadata": {},
     "output_type": "display_data"
    }
   ],
   "source": [
    "best_hist = sns.distplot(best_avg, kde=False, rug=True)\n",
    "best_hist.axes.set_title(\"Ratings for Top 10 Best Movies\")\n",
    "best_hist.set_xlabel(\"Average Movie Rating\")\n",
    "best_hist.set_ylabel(\"Counts of Movies\")"
   ]
  },
  {
   "cell_type": "code",
   "execution_count": 13,
   "metadata": {},
   "outputs": [
    {
     "data": {
      "text/plain": [
       "<matplotlib.text.Text at 0x1a1ec852e8>"
      ]
     },
     "execution_count": 13,
     "metadata": {},
     "output_type": "execute_result"
    },
    {
     "data": {
      "image/png": "[encoded data removed]",
      "text/plain": [
       "<matplotlib.figure.Figure at 0x1a18b3cbe0>"
      ]
     },
     "metadata": {},
     "output_type": "display_data"
    }
   ],
   "source": [
    "best_hist_all = sns.distplot(best_movies_counts, kde=False, rug=True, bins=5)\n",
    "best_hist_all.axes.set_title(\"Ratings for Top 10 Best Movies\")\n",
    "best_hist_all.set_xlabel(\"Movie Rating\")\n",
    "best_hist_all.set_ylabel(\"Counts of User Ratings\")"
   ]
  },
  {
   "cell_type": "code",
   "execution_count": 14,
   "metadata": {},
   "outputs": [
    {
     "data": {
      "image/png": "[encoded data removed]",
      "text/plain": [
       "<matplotlib.figure.Figure at 0x1a1e5549e8>"
      ]
     },
     "metadata": {},
     "output_type": "display_data"
    }
   ],
   "source": [
    "# Bar Graph for Top 10 Best Movies\n",
    "plt.bar(np.arange(10), best_avg)\n",
    "plt.xlabel('Movies in Top 10')\n",
    "plt.ylabel('Average Rating')\n",
    "plt.title('Ratings for Top 10 Best Movies')\n",
    "plt.show()"
   ]
  },
  {
   "cell_type": "code",
   "execution_count": 15,
   "metadata": {
    "collapsed": true,
    "scrolled": true
   },
   "outputs": [],
   "source": [
    "# I don't know what these histograms are...@pamela pls explain??\n",
    "# all_ratings_hist = plt.hist(all_ratings, bins = 5)\n",
    "# plt.title('All Ratings in MovieLens Histogram')\n",
    "# plt.xlabel('Rating')\n",
    "# plt.ylabel('Number of Ratings')"
   ]
  },
  {
   "cell_type": "code",
   "execution_count": 16,
   "metadata": {},
   "outputs": [],
   "source": [
    "# sns.distplot(best_avg)\n",
    "# plt.title(\"All Ratings of 10 Most Popular Movies\")\n",
    "# plt.xlabel(\"Rating\")\n",
    "# plt.ylabel(\"Proportional Number of Ratings\")"
   ]
  },
  {
   "cell_type": "code",
   "execution_count": 17,
   "metadata": {
    "collapsed": true
   },
   "outputs": [],
   "source": [
    "# sns.distplot(best_avg)\n",
    "# plt.title(\"All Ratings of 10 Best Movies\")\n",
    "# plt.xlabel(\"Rating\")\n",
    "# plt.ylabel(\"Proportional Number of Ratings\")"
   ]
  },
  {
   "cell_type": "markdown",
   "metadata": {},
   "source": [
    "### Visualizations for Specific Genres"
   ]
  },
  {
   "cell_type": "code",
   "execution_count": 24,
   "metadata": {
    "collapsed": true
   },
   "outputs": [],
   "source": [
    "def get_genre_counts(genre1_ind, genre2_ind, genre3_ind, data, movies_data):\n",
    "    '''\n",
    "    genre1_ind: integer index representing column number for first genre\n",
    "    genre2_ind: integer index representing column number for second genre\n",
    "    genre2_ind: integer index representing column number for third genre\n",
    "    data: data set of all ratings\n",
    "    movies_data: array representing genres for each movie\n",
    "    \n",
    "    Returns the counts as numpy ndarrays to make a histogram for each genre\n",
    "    '''\n",
    "    genre1_counts = []\n",
    "    genre2_counts = []\n",
    "    genre3_counts = []\n",
    "    for d in data:\n",
    "        if movies_data[int(d[1]-1)][genre1_ind] == 1:\n",
    "            genre1_counts.append(d[2])\n",
    "        if movies_data[int(d[1]-1)][genre2_ind] == 1:\n",
    "            genre2_counts.append(d[2])\n",
    "        if movies_data[int(d[1]-1)][genre3_ind] == 1:\n",
    "            genre3_counts.append(d[2])\n",
    "            \n",
    "    return np.array(genre1_counts), np.array(genre2_counts), np.array(genre3_counts)"
   ]
  },
  {
   "cell_type": "code",
   "execution_count": 25,
   "metadata": {},
   "outputs": [],
   "source": [
    "genre1_ind = 0\n",
    "genre2_ind = 1\n",
    "genre3_ind = 2\n",
    "\n",
    "genre1_counts, genre2_counts, genre3_counts = get_genre_counts(genre1_ind, genre2_ind, genre3_ind, data, movies_data)"
   ]
  },
  {
   "cell_type": "code",
   "execution_count": 26,
   "metadata": {},
   "outputs": [
    {
     "data": {
      "text/plain": [
       "[(0, 6)]"
      ]
     },
     "execution_count": 26,
     "metadata": {},
     "output_type": "execute_result"
    },
    {
     "data": {
      "image/png": "[encoded data removed]",
      "text/plain": [
       "<matplotlib.figure.Figure at 0x1a1e6ec5c0>"
      ]
     },
     "metadata": {},
     "output_type": "display_data"
    }
   ],
   "source": [
    "genre1_hist = sns.distplot(genre1_counts, kde=False, rug=True, bins=5)\n",
    "title = \"Ratings for \" + genres[genre1_ind] + \" Genre\" \n",
    "genre1_hist.axes.set_title(title)\n",
    "genre1_hist.set_xlabel(\"Movie Rating\")\n",
    "genre1_hist.set_ylabel(\"Counts of User Ratings\")\n",
    "genre1_hist.set(xlim=(0, 6))"
   ]
  },
  {
   "cell_type": "code",
   "execution_count": null,
   "metadata": {},
   "outputs": [],
   "source": [
    "genre2_hist = sns.distplot(genre2_counts, kde=False, rug=True, bins=5)\n",
    "title = \"Ratings for \" + genres[genre2_ind] + \" Genre\" \n",
    "genre2_hist.axes.set_title(title)\n",
    "genre2_hist.set_xlabel(\"Movie Rating\")\n",
    "genre2_hist.set_ylabel(\"Counts of User Ratings\")\n",
    "genre2_hist.set(xlim=(0, 6))"
   ]
  },
  {
   "cell_type": "code",
   "execution_count": null,
   "metadata": {
    "collapsed": true
   },
   "outputs": [],
   "source": [
    "genre3_hist = sns.distplot(genre3_counts, kde=False, rug=True, bins=5)\n",
    "title = \"Ratings for \" + genres[genre3_ind] + \" Genre\" \n",
    "genre3_hist.axes.set_title(title)\n",
    "genre3_hist.set_xlabel(\"Movie Rating\")\n",
    "genre3_hist.set_ylabel(\"Counts of User Ratings\")\n",
    "genre3_hist.set(xlim=(0, 6))"
   ]
  }
 ],
 "metadata": {
  "kernelspec": {
   "display_name": "Python 3",
   "language": "python",
   "name": "python3"
  },
  "language_info": {
   "codemirror_mode": {
    "name": "ipython",
    "version": 3
   },
   "file_extension": ".py",
   "mimetype": "text/x-python",
   "name": "python",
   "nbconvert_exporter": "python",
   "pygments_lexer": "ipython3",
   "version": "3.6.4"
  }
 },
 "nbformat": 4,
 "nbformat_minor": 2
}
