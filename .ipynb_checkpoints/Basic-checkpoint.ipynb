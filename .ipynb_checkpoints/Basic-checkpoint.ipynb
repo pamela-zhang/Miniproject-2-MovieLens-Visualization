{
 "cells": [
  {
   "cell_type": "markdown",
   "metadata": {},
   "source": [
    "# Basic Visualizations"
   ]
  },
  {
   "cell_type": "code",
   "execution_count": 1,
   "metadata": {
    "collapsed": true
   },
   "outputs": [],
   "source": [
    "# Imports\n",
    "import numpy as np\n",
    "import matplotlib.pyplot as plt; plt.rcdefaults()\n",
    "import seaborn as sns\n",
    "import helper\n",
    "import matplotlib.pyplot as plt;\n",
    "# To allow for inline rendering of plots.\n",
    "%matplotlib inline"
   ]
  },
  {
   "cell_type": "code",
   "execution_count": 2,
   "metadata": {},
   "outputs": [],
   "source": [
    "data, titles, movies_data, genres = helper.load_data('data/data.txt', 'data/movies.txt')"
   ]
  },
  {
   "cell_type": "code",
   "execution_count": 3,
   "metadata": {
    "collapsed": true
   },
   "outputs": [],
   "source": [
    "# Array stores total of user ratings and number of ratings\n",
    "movie_ratings = np.zeros((len(movies_data), 2))"
   ]
  },
  {
   "cell_type": "code",
   "execution_count": 4,
   "metadata": {
    "collapsed": true
   },
   "outputs": [],
   "source": [
    "# Loop through data set\n",
    "for d in data:\n",
    "    # Add user's rating for corresponding movie\n",
    "    movie_ratings[int(d[1] - 1)][0] += d[2]\n",
    "    # Count of ratings per movie\n",
    "    movie_ratings[int(d[1] - 1)][1] += 1\n",
    "\n",
    "# All ratings of all movies\n",
    "all_ratings = data[:,2]"
   ]
  },
  {
   "cell_type": "markdown",
   "metadata": {},
   "source": [
    "## Visualizing Ratings for Top 10 Popular Movies and Top 10 Best Movies"
   ]
  },
  {
   "cell_type": "code",
   "execution_count": 5,
   "metadata": {
    "collapsed": true
   },
   "outputs": [],
   "source": [
    "'''\n",
    "Given an input array of movie ratings and scalar n_max, return the indices in \n",
    "lst of the n_max highest values in the list.\n",
    "\n",
    "Input:\n",
    "    - lst: list of values to sort and select from\n",
    "    - n_max: desired n number of movies with certain attribute\n",
    "\n",
    "Output:\n",
    "    - max_positions: indices of n_max movies with most number of ratings\n",
    "\n",
    "'''\n",
    "# def n_max_pos(movie_ratings, n_max):\n",
    "#     sorted_pos = np.argsort(rating_per_mov)\n",
    "#     max_positions = sorted_pos[-1*n_max:]\n",
    "#     return max_positions\n",
    "\n",
    "def n_max_pos(lst, n_max):\n",
    "    sorted_pos = np.argsort(lst)\n",
    "    max_positions = sorted_pos[-1*n_max:]\n",
    "    return max_positions"
   ]
  },
  {
   "cell_type": "code",
   "execution_count": 6,
   "metadata": {},
   "outputs": [],
   "source": [
    "# Calculate average rating score for each movie\n",
    "avgs = np.zeros(len(movies_data))\n",
    "for i, m in enumerate(movie_ratings):\n",
    "    all_ratings[i] = m[1]\n",
    "    if m[1] != 0:\n",
    "        avgs[i] = m[0] / m[1]\n",
    "        \n",
    "# Finding top 10 movies with the most ratings\n",
    "rating_per_mov = movie_ratings[:,1]\n",
    "most_ratings_pos = n_max_pos(rating_per_mov, 10)\n",
    "\n",
    "# Find average ratings of the 10 movies with most number of ratings\n",
    "most_ratings = avgs[most_ratings_pos]\n",
    "\n",
    "# Finding top 10 movies with highest average ratings\n",
    "best_movies_pos = n_max_pos(avgs, 10)\n",
    "best_avg = avgs[best_movies_pos]"
   ]
  },
  {
   "cell_type": "code",
   "execution_count": 7,
   "metadata": {},
   "outputs": [
    {
     "data": {
      "text/plain": [
       "<matplotlib.text.Text at 0x10dc3fa90>"
      ]
     },
     "execution_count": 7,
     "metadata": {},
     "output_type": "execute_result"
    },
    {
     "data": {
      "image/png": "[encoded data removed]",
      "text/plain": [
       "<matplotlib.figure.Figure at 0x10e22a2b0>"
      ]
     },
     "metadata": {},
     "output_type": "display_data"
    }
   ],
   "source": [
    "all_hist = sns.distplot(avgs, kde=False, rug=True)\n",
    "all_hist.axes.set_title(\"All Ratings in MovieLens\")\n",
    "all_hist.set_xlabel(\"Average Movie Rating\")\n",
    "all_hist.set_ylabel(\"Counts of Movies\")"
   ]
  },
  {
   "cell_type": "code",
   "execution_count": 8,
   "metadata": {
    "scrolled": true
   },
   "outputs": [
    {
     "data": {
      "text/plain": [
       "<matplotlib.text.Text at 0x1a19500588>"
      ]
     },
     "execution_count": 8,
     "metadata": {},
     "output_type": "execute_result"
    },
    {
     "data": {
      "image/png": "[encoded data removed]",
      "text/plain": [
       "<matplotlib.figure.Figure at 0x10e285dd8>"
      ]
     },
     "metadata": {},
     "output_type": "display_data"
    }
   ],
   "source": [
    "all_hist = sns.distplot(most_ratings, kde=False, rug=True)\n",
    "all_hist.axes.set_title(\"Ratings for Top 10 Popular Movies\")\n",
    "all_hist.set_xlabel(\"Average Movie Rating\")\n",
    "all_hist.set_ylabel(\"Counts of Movies\")"
   ]
  },
  {
   "cell_type": "code",
   "execution_count": 12,
   "metadata": {},
   "outputs": [
    {
     "data": {
      "image/png": "[encoded data removed]",
      "text/plain": [
       "<matplotlib.figure.Figure at 0x1a18fe4940>"
      ]
     },
     "metadata": {},
     "output_type": "display_data"
    }
   ],
   "source": [
    "# Bar Graph for Top 10 Popular Movies\n",
    "plt.bar(np.arange(10), most_ratings)\n",
    "plt.xlabel('Movies in Top 10')\n",
    "plt.ylabel('Average Rating')\n",
    "plt.title('Ratings for Top 10 Popular Movies')\n",
    "plt.show()"
   ]
  },
  {
   "cell_type": "code",
   "execution_count": 10,
   "metadata": {},
   "outputs": [
    {
     "data": {
      "text/plain": [
       "<matplotlib.text.Text at 0x1a196cd240>"
      ]
     },
     "execution_count": 10,
     "metadata": {},
     "output_type": "execute_result"
    },
    {
     "data": {
      "image/png": "[encoded data removed]",
      "text/plain": [
       "<matplotlib.figure.Figure at 0x1a19652fd0>"
      ]
     },
     "metadata": {},
     "output_type": "display_data"
    }
   ],
   "source": [
    "all_hist = sns.distplot(best_avg, kde=False, rug=True)\n",
    "all_hist.axes.set_title(\"Ratings for Top 10 Best Movies\")\n",
    "all_hist.set_xlabel(\"Average Movie Rating\")\n",
    "all_hist.set_ylabel(\"Counts of Movies\")"
   ]
  },
  {
   "cell_type": "code",
   "execution_count": 13,
   "metadata": {},
   "outputs": [
    {
     "data": {
      "image/png": "[encoded data removed]",
      "text/plain": [
       "<matplotlib.figure.Figure at 0x1a19f186d8>"
      ]
     },
     "metadata": {},
     "output_type": "display_data"
    }
   ],
   "source": [
    "# Bar Graph for Top 10 Best Movies\n",
    "plt.bar(np.arange(10), best_avg)\n",
    "plt.xlabel('Movies in Top 10')\n",
    "plt.ylabel('Average Rating')\n",
    "plt.title('Ratings for Top 10 Best Movies')\n",
    "plt.show()"
   ]
  },
  {
   "cell_type": "code",
   "execution_count": null,
   "metadata": {
    "scrolled": true
   },
   "outputs": [],
   "source": [
    "# I don't know what these histograms are...@pamela pls explain??\n",
    "# all_ratings_hist = plt.hist(all_ratings, bins = 5)\n",
    "# plt.title('All Ratings in MovieLens Histogram')\n",
    "# plt.xlabel('Rating')\n",
    "# plt.ylabel('Number of Ratings')"
   ]
  },
  {
   "cell_type": "code",
   "execution_count": 14,
   "metadata": {},
   "outputs": [
    {
     "name": "stderr",
     "output_type": "stream",
     "text": [
      "/Users/helenawu/anaconda3/lib/python3.6/site-packages/statsmodels/nonparametric/kde.py:494: RuntimeWarning: invalid value encountered in true_divide\n",
      "  binned = fast_linbin(X,a,b,gridsize)/(delta*nobs)\n",
      "/Users/helenawu/anaconda3/lib/python3.6/site-packages/statsmodels/nonparametric/kdetools.py:34: RuntimeWarning: invalid value encountered in double_scalars\n",
      "  FAC1 = 2*(np.pi*bw/RANGE)**2\n",
      "/Users/helenawu/anaconda3/lib/python3.6/site-packages/numpy/core/_methods.py:26: RuntimeWarning: invalid value encountered in reduce\n",
      "  return umr_maximum(a, axis, None, out, keepdims)\n"
     ]
    },
    {
     "data": {
      "text/plain": [
       "<matplotlib.text.Text at 0x1a19fba160>"
      ]
     },
     "execution_count": 14,
     "metadata": {},
     "output_type": "execute_result"
    },
    {
     "data": {
      "image/png": "[encoded data removed]",
      "text/plain": [
       "<matplotlib.figure.Figure at 0x1a19f4a780>"
      ]
     },
     "metadata": {},
     "output_type": "display_data"
    }
   ],
   "source": [
    "# sns.distplot(best_avg)\n",
    "# plt.title(\"All Ratings of 10 Most Popular Movies\")\n",
    "# plt.xlabel(\"Rating\")\n",
    "# plt.ylabel(\"Proportional Number of Ratings\")"
   ]
  },
  {
   "cell_type": "code",
   "execution_count": null,
   "metadata": {},
   "outputs": [],
   "source": [
    "# sns.distplot(best_avg)\n",
    "# plt.title(\"All Ratings of 10 Best Movies\")\n",
    "# plt.xlabel(\"Rating\")\n",
    "# plt.ylabel(\"Proportional Number of Ratings\")"
   ]
  }
 ],
 "metadata": {
  "kernelspec": {
   "display_name": "Python 3",
   "language": "python",
   "name": "python3"
  },
  "language_info": {
   "codemirror_mode": {
    "name": "ipython",
    "version": 3
   },
   "file_extension": ".py",
   "mimetype": "text/x-python",
   "name": "python",
   "nbconvert_exporter": "python",
   "pygments_lexer": "ipython3",
   "version": "3.6.4"
  }
 },
 "nbformat": 4,
 "nbformat_minor": 2
}
