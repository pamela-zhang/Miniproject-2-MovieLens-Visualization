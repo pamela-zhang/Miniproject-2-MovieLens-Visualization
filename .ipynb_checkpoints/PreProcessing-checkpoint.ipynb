{
 "cells": [
  {
   "cell_type": "markdown",
   "metadata": {
    "collapsed": true
   },
   "source": [
    "### This file is for testing purposes only. Use the helper.py python3 file. "
   ]
  },
  {
   "cell_type": "code",
   "execution_count": 14,
   "metadata": {
    "collapsed": true
   },
   "outputs": [],
   "source": [
    "import numpy as np\n",
    "\n",
    "def load_data(data_file, train_file, test_file, movies_file, skiprows = 0, m_cols = 2):\n",
    "    '''\n",
    "    Function loads training and test data and movie and info data from input files\n",
    "    and returns x_train, y_train, and x_test in numpy ndarrays.\n",
    "\n",
    "    Inputs:\n",
    "    data_file: filename for all ratings data\n",
    "    movies_file: filename for movies\n",
    "    train_file: filename for training ratings data\n",
    "    test_file: filename for testing ratings data\n",
    "    skiprows: number of rows to skip in reading any input file\n",
    "    m_cols: the column to start loading in movies file\n",
    "\n",
    "    Outputs:\n",
    "    data: the data from all ratings data file as numpy ndarray\n",
    "    X_train: x values for training set as numpy ndarray\n",
    "    y_train: labels for x values in training set as numpy ndarray\n",
    "    X_test: x values for testing set as numpy ndarray\n",
    "    y_test: x values for testing set as numpy ndarray\n",
    "    '''\n",
    "    movies_data = np.loadtxt(movies_file, skiprows = skiprows, usecols = m_cols, delimiter = '\\t', encoding=\"cp1252\")\n",
    "    data = np.loadtxt(data_file, skiprows = skiprows, delimiter = '\\t')\n",
    "    train_data = np.loadtxt(train_file, skiprows = skiprows, delimiter = '\\t')\n",
    "    test_data = np.loadtxt(test_file, skiprows = skiprows, delimiter = '\\t')\n",
    "\n",
    "    X_train = train_data[:, :-1]\n",
    "    y_train = train_data[:,-1]\n",
    "    \n",
    "    X_test = test_data[:, :-1]\n",
    "    y_test = test_data[:,-1]\n",
    "\n",
    "    return data, X_train, y_train, X_test, y_test, movies_data"
   ]
  },
  {
   "cell_type": "code",
   "execution_count": 15,
   "metadata": {
    "collapsed": true
   },
   "outputs": [],
   "source": [
    "data, X_train, y_train, X_test, y_test, movies_data = load_data('data/data.txt', 'data/train.txt', 'data/test.txt', 'data/movies.txt')"
   ]
  }
 ],
 "metadata": {
  "kernelspec": {
   "display_name": "Python 3",
   "language": "python",
   "name": "python3"
  },
  "language_info": {
   "codemirror_mode": {
    "name": "ipython",
    "version": 3
   },
   "file_extension": ".py",
   "mimetype": "text/x-python",
   "name": "python",
   "nbconvert_exporter": "python",
   "pygments_lexer": "ipython3",
   "version": "3.6.4"
  }
 },
 "nbformat": 4,
 "nbformat_minor": 2
}
